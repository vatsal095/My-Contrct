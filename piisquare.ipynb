{
  "nbformat": 4,
  "nbformat_minor": 0,
  "metadata": {
    "colab": {
      "provenance": [],
      "authorship_tag": "ABX9TyP0mw4mEg4FyDi6lPt0KQ7Y"
    },
    "kernelspec": {
      "name": "python3",
      "display_name": "Python 3"
    },
    "language_info": {
      "name": "python"
    }
  },
  "cells": [
    {
      "cell_type": "code",
      "execution_count": 84,
      "metadata": {
        "id": "W5P966cade3N"
      },
      "outputs": [],
      "source": [
        "import numpy as np\n",
        "from scipy.stats import norm"
      ]
    },
    {
      "cell_type": "code",
      "source": [
        "def d(sigma, S, K, r, t):\n",
        "    d1 = 1 / (sigma * np.sqrt(t)) * ( np.log(S/K) + (r + sigma**2/2) * t)\n",
        "    d2 = d1 - sigma * np.sqrt(t)\n",
        "    return d1, d2"
      ],
      "metadata": {
        "id": "2TVw-H-6dhEk"
      },
      "execution_count": 85,
      "outputs": []
    },
    {
      "cell_type": "code",
      "source": [
        "def call_price(sigma, S, K, r, t, d1, d2):\n",
        "    C = norm.cdf(d1) * S - norm.cdf(d2) * K * np.exp(-r * t)\n",
        "    return C"
      ],
      "metadata": {
        "id": "yAU2uRKEdtqJ"
      },
      "execution_count": 86,
      "outputs": []
    },
    {
      "cell_type": "code",
      "source": [
        "def put_price(sigma, S, K, r, t, d1, d2):\n",
        "    P = -norm.cdf(-d1) * S + norm.cdf(-d2) * K * np.exp(-r * t)\n",
        "    return P"
      ],
      "metadata": {
        "id": "naDdll-od9DD"
      },
      "execution_count": 87,
      "outputs": []
    },
    {
      "cell_type": "code",
      "source": [
        "# delta \n",
        "def delta(d_1, contract_type):\n",
        "    if contract_type == 'c':\n",
        "        return norm.cdf(d1)\n",
        "    if contract_type == 'p':\n",
        "        return -norm.cdf(-d_1)"
      ],
      "metadata": {
        "id": "2V0f2gBzd9o4"
      },
      "execution_count": 88,
      "outputs": []
    },
    {
      "cell_type": "code",
      "source": [
        " #gamma  \n",
        "def gamma(d2, S, K, sigma, r, t):\n",
        "    return( K * np.exp(-r * t) * (norm.pdf(d2) / (S**2 * sigma * np.sqrt(t) ))) \n"
      ],
      "metadata": {
        "id": "euxpgAe4eGq5"
      },
      "execution_count": 89,
      "outputs": []
    },
    {
      "cell_type": "code",
      "source": [
        "#theta \n",
        "def theta(d1, d2, S, K, sigma, r, t, contract_type):\n",
        "    if contract_type == 'c':\n",
        "        theta = -S * sigma * norm.pdf(d1) / (2 * np.sqrt(t)) - r * K * np.exp(-r * t) * norm.cdf(d2)\n",
        "    if contract_type == 'p':\n",
        "        theta = -S * sigma * norm.pdf(-d1) / (2 * np.sqrt(t)) + r * K * np.exp(-r * t) * norm.cdf(-d2)\n",
        "\n",
        "    return theta"
      ],
      "metadata": {
        "id": "Do5TvjVVeMAR"
      },
      "execution_count": 90,
      "outputs": []
    },
    {
      "cell_type": "code",
      "source": [
        "#vega \n",
        "def vega(sigma, S, K, r, t):\n",
        "    d1, d2 = d(sigma, S, K, r, t)\n",
        "    v = S * norm.pdf(d1) * np.sqrt(t)\n",
        "    return v"
      ],
      "metadata": {
        "id": "-IWKFVyZeRa3"
      },
      "execution_count": 91,
      "outputs": []
    },
    {
      "cell_type": "code",
      "source": [
        "#  Using ICICI data from 5/9/2020 closing values\n",
        "S = 915; print('S = ', S)\n",
        "K = 920; print('K = ', K)\n",
        "r = 0.005; print('r = ', r)\n",
        "t = 12 / 365; print('t = ', t)\n",
        "sigma = 0.238; print('sigma = ', sigma)"
      ],
      "metadata": {
        "colab": {
          "base_uri": "https://localhost:8080/"
        },
        "id": "YN5JHasKe-jd",
        "outputId": "b2a91713-19cc-4cbc-f819-443179830307"
      },
      "execution_count": 92,
      "outputs": [
        {
          "output_type": "stream",
          "name": "stdout",
          "text": [
            "S =  915\n",
            "K =  920\n",
            "r =  0.005\n",
            "t =  0.03287671232876712\n",
            "sigma =  0.238\n"
          ]
        }
      ]
    },
    {
      "cell_type": "code",
      "source": [
        "#  Calculate the values of d1 and d2 needed for other functions\n",
        "d1, d2 = d(sigma, S, K, r, t)\n",
        "print('d1 = ', d1)\n",
        "print('d2 = ', d2)\n"
      ],
      "metadata": {
        "colab": {
          "base_uri": "https://localhost:8080/"
        },
        "id": "MvegLccJdbc6",
        "outputId": "0e82dfa1-a15b-4ef0-abe1-b7d0250817c7"
      },
      "execution_count": 93,
      "outputs": [
        {
          "output_type": "stream",
          "name": "stdout",
          "text": [
            "d1 =  -0.1008964650052079\n",
            "d2 =  -0.14405047400959456\n"
          ]
        }
      ]
    },
    {
      "cell_type": "code",
      "source": [
        "delta_call = delta(d1, 'c')\n",
        "delta_put = delta(d1, 'p')\n",
        "print('Call Delta = ', delta_call)\n",
        "print('Put Delta = ', delta_put)"
      ],
      "metadata": {
        "colab": {
          "base_uri": "https://localhost:8080/"
        },
        "id": "o35V4n_Pdl4f",
        "outputId": "2e7758e9-8b6c-4183-fe2c-affae5d10e7c"
      },
      "execution_count": 94,
      "outputs": [
        {
          "output_type": "stream",
          "name": "stdout",
          "text": [
            "Call Delta =  0.4598163246531495\n",
            "Put Delta =  -0.5401836753468505\n"
          ]
        }
      ]
    },
    {
      "cell_type": "code",
      "source": [
        "#####  Calculate Theta\n",
        "print(S, K, r, t, sigma, d1, d2)\n",
        "print( theta(d1, d2, S, K, sigma, r, t, 'c') )\n",
        "\n",
        "print( 'Call Theta = ', theta(d1, d2, S, K, sigma, r, t, 'c') / 365 * 100)\n",
        "print( 'Put Thata = ', theta(d1, d2, S, K, sigma, r, t, 'p') / 365 * 100)"
      ],
      "metadata": {
        "colab": {
          "base_uri": "https://localhost:8080/"
        },
        "id": "VYEFkMiUd-Nd",
        "outputId": "0e1917e0-b098-4673-98a8-6174562dbf36"
      },
      "execution_count": 95,
      "outputs": [
        {
          "output_type": "stream",
          "name": "stdout",
          "text": [
            "915 920 0.005 0.03287671232876712 0.238 -0.1008964650052079 -0.14405047400959456\n",
            "-240.39072191907542\n",
            "Call Theta =  -65.86047175865079\n",
            "Put Thata =  -64.60040493734573\n"
          ]
        }
      ]
    },
    {
      "cell_type": "code",
      "source": [
        "gamma = gamma(d2, S, K, sigma, r, t)\n",
        "print( 'Gamma = ', gamma )"
      ],
      "metadata": {
        "colab": {
          "base_uri": "https://localhost:8080/"
        },
        "id": "FXGkQfmJe0uS",
        "outputId": "173e8b4a-cd50-4f32-bac9-583cf3bdfb17"
      },
      "execution_count": 96,
      "outputs": [
        {
          "output_type": "stream",
          "name": "stdout",
          "text": [
            "Gamma =  0.010052110268061689\n"
          ]
        }
      ]
    },
    {
      "cell_type": "code",
      "source": [
        "vega = vega(sigma, S, K, r, t) /100\n",
        "print( 'vega =', vega )"
      ],
      "metadata": {
        "colab": {
          "base_uri": "https://localhost:8080/"
        },
        "id": "v-dYfdT6fGQj",
        "outputId": "b20000f3-d154-4a7c-d9fa-7659e2225104"
      },
      "execution_count": 97,
      "outputs": [
        {
          "output_type": "stream",
          "name": "stdout",
          "text": [
            "vega = 0.6585136335006087\n"
          ]
        }
      ]
    },
    {
      "cell_type": "code",
      "source": [
        "#equity which we need to sell \n",
        "# formula = lot * reamaing delta\n",
        "LotNumber = 1375\n",
        "interstict_Delta = 1 - delta_call*2\n",
        "sell_equity= interstict_Delta * LotNumber\n",
        "print('sell equity= ',sell_equity)"
      ],
      "metadata": {
        "colab": {
          "base_uri": "https://localhost:8080/"
        },
        "id": "uI-qlaFK2Vx_",
        "outputId": "25486816-79aa-4cc7-c122-ab9448f2fde1"
      },
      "execution_count": 98,
      "outputs": [
        {
          "output_type": "stream",
          "name": "stdout",
          "text": [
            "sell equity=  110.50510720383893\n"
          ]
        }
      ]
    },
    {
      "cell_type": "code",
      "source": [
        "# sell equity if we show 1$ change in delta\n",
        "#formula = sell_equity / (1- ((interstict value* gamma) + delta)) \n",
        "sell_as_per_gamma = sell_equity/(50-(((K - S) * gamma) + (delta_call*100)))\n",
        "print(\"sell as per gamma = \", sell_as_per_gamma)"
      ],
      "metadata": {
        "colab": {
          "base_uri": "https://localhost:8080/"
        },
        "id": "BmcXcuZ446zv",
        "outputId": "54c6ab3f-fec5-4d90-cb40-dc53f4530307"
      },
      "execution_count": 99,
      "outputs": [
        {
          "output_type": "stream",
          "name": "stdout",
          "text": [
            "sell as per gamma =  27.848318522575056\n"
          ]
        }
      ]
    },
    {
      "cell_type": "code",
      "source": [
        "# money we got on the call sell position if the primum will remain same (theta money)\n",
        "#formula = theta * lot * number of the call/put \n",
        "call_theta = theta(d1, d2, S, K, sigma, r, t, 'c') / 365\n",
        "print('money on theta = ',LotNumber * 2 * call_theta)\n"
      ],
      "metadata": {
        "colab": {
          "base_uri": "https://localhost:8080/"
        },
        "id": "aOiYyR-z2Yr4",
        "outputId": "4f6eff57-11ea-4131-a388-a9deb1439686"
      },
      "execution_count": 100,
      "outputs": [
        {
          "output_type": "stream",
          "name": "stdout",
          "text": [
            "money on theta =  -1811.162973362897\n"
          ]
        }
      ]
    },
    {
      "cell_type": "code",
      "source": [
        "# money we got on our hedge position if the primum will reamin same (vega)\n",
        "#formula = vega * lot * number of the call/put\n",
        "print('money on vega= ', LotNumber * 2 * vega)"
      ],
      "metadata": {
        "colab": {
          "base_uri": "https://localhost:8080/"
        },
        "id": "FEnQ5p0-4tJC",
        "outputId": "fe6f783a-b55e-4300-92dd-3c302eb37bae"
      },
      "execution_count": 101,
      "outputs": [
        {
          "output_type": "stream",
          "name": "stdout",
          "text": [
            "money on vega=  1810.912492126674\n"
          ]
        }
      ]
    },
    {
      "cell_type": "code",
      "source": [],
      "metadata": {
        "id": "DdJVmGkp9nN-"
      },
      "execution_count": null,
      "outputs": []
    }
  ]
}